{
  "nbformat": 4,
  "nbformat_minor": 0,
  "metadata": {
    "colab": {
      "provenance": [],
      "authorship_tag": "ABX9TyMOoizaDD6xmAUhUqKRZeSU",
      "include_colab_link": true
    },
    "kernelspec": {
      "name": "python3",
      "display_name": "Python 3"
    },
    "language_info": {
      "name": "python"
    }
  },
  "cells": [
    {
      "cell_type": "markdown",
      "metadata": {
        "id": "view-in-github",
        "colab_type": "text"
      },
      "source": [
        "<a href=\"https://colab.research.google.com/github/omkar1872/Machine-Learning-Projects/blob/main/Using_Multi_Algorithms.ipynb\" target=\"_parent\"><img src=\"https://colab.research.google.com/assets/colab-badge.svg\" alt=\"Open In Colab\"/></a>"
      ]
    },
    {
      "cell_type": "code",
      "execution_count": 1,
      "metadata": {
        "id": "xPVEiGk8aLsm"
      },
      "outputs": [],
      "source": [
        "import pandas as pd\n",
        "import numpy as np\n",
        "import seaborn as sns\n",
        "import matplotlib.pyplot as plt\n",
        "from sklearn.model_selection import train_test_split\n",
        "from sklearn.preprocessing import StandardScaler\n",
        "from sklearn.metrics import accuracy_score, classification_report, confusion_matrix\n",
        "\n",
        "# Machine Learning Models\n",
        "from sklearn.linear_model import LogisticRegression\n",
        "from sklearn.svm import SVC\n",
        "from sklearn.ensemble import RandomForestClassifier, GradientBoostingClassifier\n",
        "from sklearn.tree import DecisionTreeClassifier\n",
        "from sklearn.neighbors import KNeighborsClassifier\n"
      ]
    },
    {
      "cell_type": "code",
      "source": [
        "# Load dataset\n",
        "df = pd.read_csv(\"/content/framingham.csv\")\n",
        "\n",
        "# Display first few rows\n",
        "print(df.head())\n",
        "\n",
        "# Check dataset structure\n",
        "print(df.info())\n",
        "\n",
        "# Check for missing values\n",
        "print(df.isnull().sum())\n"
      ],
      "metadata": {
        "colab": {
          "base_uri": "https://localhost:8080/"
        },
        "id": "s0xoIIUQaWf6",
        "outputId": "5d2b08b7-f229-49e0-b18e-c67f292d3d88"
      },
      "execution_count": 2,
      "outputs": [
        {
          "output_type": "stream",
          "name": "stdout",
          "text": [
            "   male  age  education  currentSmoker  cigsPerDay  BPMeds  prevalentStroke  \\\n",
            "0     1   39        4.0              0         0.0     0.0                0   \n",
            "1     0   46        2.0              0         0.0     0.0                0   \n",
            "2     1   48        1.0              1        20.0     0.0                0   \n",
            "3     0   61        3.0              1        30.0     0.0                0   \n",
            "4     0   46        3.0              1        23.0     0.0                0   \n",
            "\n",
            "   prevalentHyp  diabetes  totChol  sysBP  diaBP    BMI  heartRate  glucose  \\\n",
            "0             0         0    195.0  106.0   70.0  26.97       80.0     77.0   \n",
            "1             0         0    250.0  121.0   81.0  28.73       95.0     76.0   \n",
            "2             0         0    245.0  127.5   80.0  25.34       75.0     70.0   \n",
            "3             1         0    225.0  150.0   95.0  28.58       65.0    103.0   \n",
            "4             0         0    285.0  130.0   84.0  23.10       85.0     85.0   \n",
            "\n",
            "   TenYearCHD  \n",
            "0           0  \n",
            "1           0  \n",
            "2           0  \n",
            "3           1  \n",
            "4           0  \n",
            "<class 'pandas.core.frame.DataFrame'>\n",
            "RangeIndex: 4240 entries, 0 to 4239\n",
            "Data columns (total 16 columns):\n",
            " #   Column           Non-Null Count  Dtype  \n",
            "---  ------           --------------  -----  \n",
            " 0   male             4240 non-null   int64  \n",
            " 1   age              4240 non-null   int64  \n",
            " 2   education        4135 non-null   float64\n",
            " 3   currentSmoker    4240 non-null   int64  \n",
            " 4   cigsPerDay       4211 non-null   float64\n",
            " 5   BPMeds           4187 non-null   float64\n",
            " 6   prevalentStroke  4240 non-null   int64  \n",
            " 7   prevalentHyp     4240 non-null   int64  \n",
            " 8   diabetes         4240 non-null   int64  \n",
            " 9   totChol          4190 non-null   float64\n",
            " 10  sysBP            4240 non-null   float64\n",
            " 11  diaBP            4240 non-null   float64\n",
            " 12  BMI              4221 non-null   float64\n",
            " 13  heartRate        4239 non-null   float64\n",
            " 14  glucose          3852 non-null   float64\n",
            " 15  TenYearCHD       4240 non-null   int64  \n",
            "dtypes: float64(9), int64(7)\n",
            "memory usage: 530.1 KB\n",
            "None\n",
            "male                 0\n",
            "age                  0\n",
            "education          105\n",
            "currentSmoker        0\n",
            "cigsPerDay          29\n",
            "BPMeds              53\n",
            "prevalentStroke      0\n",
            "prevalentHyp         0\n",
            "diabetes             0\n",
            "totChol             50\n",
            "sysBP                0\n",
            "diaBP                0\n",
            "BMI                 19\n",
            "heartRate            1\n",
            "glucose            388\n",
            "TenYearCHD           0\n",
            "dtype: int64\n"
          ]
        }
      ]
    },
    {
      "cell_type": "code",
      "source": [
        "# Drop rows with missing values\n",
        "df.dropna(inplace=True)\n",
        "\n",
        "# Verify if all missing values are handled\n",
        "print(f\"Remaining missing values: {df.isnull().sum().sum()}\")\n"
      ],
      "metadata": {
        "colab": {
          "base_uri": "https://localhost:8080/"
        },
        "id": "C_oxCjJxafMu",
        "outputId": "31df4afb-f544-4df0-f528-f890ccf72b4d"
      },
      "execution_count": 3,
      "outputs": [
        {
          "output_type": "stream",
          "name": "stdout",
          "text": [
            "Remaining missing values: 0\n"
          ]
        }
      ]
    },
    {
      "cell_type": "code",
      "source": [
        "# Selecting important features\n",
        "X = df[[\"age\", \"cigsPerDay\", \"totChol\", \"glucose\", \"male\", \"sysBP\"]]\n",
        "y = df[\"TenYearCHD\"]\n"
      ],
      "metadata": {
        "id": "S52azVOUalv1"
      },
      "execution_count": 4,
      "outputs": []
    },
    {
      "cell_type": "code",
      "source": [
        "# 70% training, 30% testing\n",
        "X_train, X_test, y_train, y_test = train_test_split(\n",
        "    X, y, test_size=0.3, random_state=42, stratify=y)\n",
        "\n",
        "print(f\"Training samples: {X_train.shape[0]}, Testing samples: {X_test.shape[0]}\")\n"
      ],
      "metadata": {
        "colab": {
          "base_uri": "https://localhost:8080/"
        },
        "id": "e08JIrYraoZT",
        "outputId": "7de6e466-d3ce-4a14-fb39-c7eebe7de1b6"
      },
      "execution_count": 5,
      "outputs": [
        {
          "output_type": "stream",
          "name": "stdout",
          "text": [
            "Training samples: 2560, Testing samples: 1098\n"
          ]
        }
      ]
    },
    {
      "cell_type": "code",
      "source": [
        "scaler = StandardScaler()\n",
        "X_train_scaled = scaler.fit_transform(X_train)\n",
        "X_test_scaled = scaler.transform(X_test)\n"
      ],
      "metadata": {
        "id": "ye1nqG0taqn6"
      },
      "execution_count": 6,
      "outputs": []
    },
    {
      "cell_type": "code",
      "source": [
        "# Define models\n",
        "models = {\n",
        "    \"Logistic Regression\": LogisticRegression(),\n",
        "    \"SVM\": SVC(kernel=\"linear\"),\n",
        "    \"Random Forest\": RandomForestClassifier(n_estimators=100, random_state=42),\n",
        "    \"Decision Tree\": DecisionTreeClassifier(random_state=42),\n",
        "    \"KNN\": KNeighborsClassifier(n_neighbors=5),\n",
        "    \"Gradient Boosting\": GradientBoostingClassifier(n_estimators=100, learning_rate=0.1, random_state=42)\n",
        "}\n",
        "\n",
        "# Train and evaluate models\n",
        "results = {}\n",
        "\n",
        "for name, model in models.items():\n",
        "    print(f\"Training {name}...\")\n",
        "\n",
        "    # Select the correct dataset (scaled or unscaled)\n",
        "    X_train_data, X_test_data = (X_train_scaled, X_test_scaled) if name in [\"Logistic Regression\", \"SVM\", \"KNN\"] else (X_train, X_test)\n",
        "\n",
        "    # Train and predict\n",
        "    model.fit(X_train_data, y_train)\n",
        "    y_pred = model.predict(X_test_data)\n",
        "\n",
        "    # Store accuracy\n",
        "    results[name] = accuracy_score(y_test, y_pred)\n",
        "\n",
        "    # Print results\n",
        "    print(f\"{name} Accuracy: {results[name]:.4f}\\n{classification_report(y_test, y_pred)}\\n\" + \"-\" * 50)\n"
      ],
      "metadata": {
        "colab": {
          "base_uri": "https://localhost:8080/"
        },
        "id": "nPX_zCdaaudp",
        "outputId": "3c340085-4de2-4dbf-9c5c-f116b5607ac4"
      },
      "execution_count": 10,
      "outputs": [
        {
          "output_type": "stream",
          "name": "stdout",
          "text": [
            "Training Logistic Regression...\n",
            "Logistic Regression Accuracy: 0.8552\n",
            "              precision    recall  f1-score   support\n",
            "\n",
            "           0       0.86      0.99      0.92       931\n",
            "           1       0.65      0.10      0.18       167\n",
            "\n",
            "    accuracy                           0.86      1098\n",
            "   macro avg       0.76      0.55      0.55      1098\n",
            "weighted avg       0.83      0.86      0.81      1098\n",
            "\n",
            "--------------------------------------------------\n",
            "Training SVM...\n",
            "SVM Accuracy: 0.8479\n",
            "              precision    recall  f1-score   support\n",
            "\n",
            "           0       0.85      1.00      0.92       931\n",
            "           1       0.00      0.00      0.00       167\n",
            "\n",
            "    accuracy                           0.85      1098\n",
            "   macro avg       0.42      0.50      0.46      1098\n",
            "weighted avg       0.72      0.85      0.78      1098\n",
            "\n",
            "--------------------------------------------------\n",
            "Training Random Forest...\n"
          ]
        },
        {
          "output_type": "stream",
          "name": "stderr",
          "text": [
            "/usr/local/lib/python3.11/dist-packages/sklearn/metrics/_classification.py:1565: UndefinedMetricWarning: Precision is ill-defined and being set to 0.0 in labels with no predicted samples. Use `zero_division` parameter to control this behavior.\n",
            "  _warn_prf(average, modifier, f\"{metric.capitalize()} is\", len(result))\n",
            "/usr/local/lib/python3.11/dist-packages/sklearn/metrics/_classification.py:1565: UndefinedMetricWarning: Precision is ill-defined and being set to 0.0 in labels with no predicted samples. Use `zero_division` parameter to control this behavior.\n",
            "  _warn_prf(average, modifier, f\"{metric.capitalize()} is\", len(result))\n",
            "/usr/local/lib/python3.11/dist-packages/sklearn/metrics/_classification.py:1565: UndefinedMetricWarning: Precision is ill-defined and being set to 0.0 in labels with no predicted samples. Use `zero_division` parameter to control this behavior.\n",
            "  _warn_prf(average, modifier, f\"{metric.capitalize()} is\", len(result))\n"
          ]
        },
        {
          "output_type": "stream",
          "name": "stdout",
          "text": [
            "Random Forest Accuracy: 0.8452\n",
            "              precision    recall  f1-score   support\n",
            "\n",
            "           0       0.86      0.98      0.91       931\n",
            "           1       0.46      0.11      0.17       167\n",
            "\n",
            "    accuracy                           0.85      1098\n",
            "   macro avg       0.66      0.54      0.54      1098\n",
            "weighted avg       0.80      0.85      0.80      1098\n",
            "\n",
            "--------------------------------------------------\n",
            "Training Decision Tree...\n",
            "Decision Tree Accuracy: 0.7723\n",
            "              precision    recall  f1-score   support\n",
            "\n",
            "           0       0.88      0.85      0.86       931\n",
            "           1       0.28      0.32      0.30       167\n",
            "\n",
            "    accuracy                           0.77      1098\n",
            "   macro avg       0.58      0.59      0.58      1098\n",
            "weighted avg       0.79      0.77      0.78      1098\n",
            "\n",
            "--------------------------------------------------\n",
            "Training KNN...\n",
            "KNN Accuracy: 0.8324\n",
            "              precision    recall  f1-score   support\n",
            "\n",
            "           0       0.86      0.96      0.91       931\n",
            "           1       0.36      0.13      0.19       167\n",
            "\n",
            "    accuracy                           0.83      1098\n",
            "   macro avg       0.61      0.54      0.55      1098\n",
            "weighted avg       0.78      0.83      0.80      1098\n",
            "\n",
            "--------------------------------------------------\n",
            "Training Gradient Boosting...\n",
            "Gradient Boosting Accuracy: 0.8497\n",
            "              precision    recall  f1-score   support\n",
            "\n",
            "           0       0.86      0.98      0.92       931\n",
            "           1       0.53      0.10      0.16       167\n",
            "\n",
            "    accuracy                           0.85      1098\n",
            "   macro avg       0.70      0.54      0.54      1098\n",
            "weighted avg       0.81      0.85      0.80      1098\n",
            "\n",
            "--------------------------------------------------\n"
          ]
        }
      ]
    },
    {
      "cell_type": "code",
      "source": [
        "best_model = max(results, key=results.get)\n",
        "print(f\"Best Model: {best_model} with Accuracy: {results[best_model]:.4f}\")\n"
      ],
      "metadata": {
        "colab": {
          "base_uri": "https://localhost:8080/"
        },
        "id": "DGEtbCwSawi0",
        "outputId": "fd7255d6-2143-4958-8eb0-a240109bb52c"
      },
      "execution_count": 8,
      "outputs": [
        {
          "output_type": "stream",
          "name": "stdout",
          "text": [
            "Best Model: Logistic Regression with Accuracy: 0.8552\n"
          ]
        }
      ]
    },
    {
      "cell_type": "code",
      "source": [
        "import matplotlib.pyplot as plt\n",
        "import seaborn as sns\n",
        "\n",
        "# Set style for better visualization\n",
        "sns.set_style(\"whitegrid\")\n",
        "\n",
        "# Create the bar plot\n",
        "plt.figure(figsize=(14, 6))\n",
        "ax = sns.barplot(x=list(results.keys()), y=list(results.values()), palette=\"viridis\", width=0.6)\n",
        "\n",
        "# Add accuracy labels on top of each bar\n",
        "for i, acc in enumerate(results.values()):\n",
        "    ax.text(i, acc + 0.005, f\"{acc*100:.2f}%\", ha='center', fontsize=12, fontweight='bold', color='black')\n",
        "\n",
        "# Formatting the plot\n",
        "plt.ylabel(\"Accuracy\", fontsize=14, fontweight='bold')\n",
        "plt.xticks(fontsize=13, fontweight='bold')\n",
        "plt.yticks(fontsize=12)\n",
        "plt.title(\"Heart Disease Prediction Using Different Algorithms\", fontsize=16, fontweight='bold')  # Updated Title\n",
        "plt.ylim(0, 1)\n",
        "plt.tight_layout()\n",
        "\n",
        "# Save the figure as a high-quality image\n",
        "plt.savefig(\"heart_disease_prediction.png\", dpi=300, bbox_inches='tight')  # Saves with high resolution\n",
        "plt.show()\n"
      ],
      "metadata": {
        "colab": {
          "base_uri": "https://localhost:8080/",
          "height": 714
        },
        "id": "sFclxqzFa40o",
        "outputId": "fb6c3966-b6ff-4990-ffaf-c88ecb6307f5"
      },
      "execution_count": 16,
      "outputs": [
        {
          "output_type": "stream",
          "name": "stderr",
          "text": [
            "<ipython-input-16-9ebbf39d2257>:9: FutureWarning: \n",
            "\n",
            "Passing `palette` without assigning `hue` is deprecated and will be removed in v0.14.0. Assign the `x` variable to `hue` and set `legend=False` for the same effect.\n",
            "\n",
            "  ax = sns.barplot(x=list(results.keys()), y=list(results.values()), palette=\"viridis\", width=0.6)\n"
          ]
        },
        {
          "output_type": "display_data",
          "data": {
            "text/plain": [
              "<Figure size 1400x600 with 1 Axes>"
            ],
            "image/png": "[encoded data removed]"
          },
          "metadata": {}
        }
      ]
    },
    {
      "cell_type": "code",
      "source": [],
      "metadata": {
        "id": "5UJxJbZsa8TB"
      },
      "execution_count": null,
      "outputs": []
    }
  ]
}